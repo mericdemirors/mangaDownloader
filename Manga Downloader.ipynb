{
 "cells": [
  {
   "cell_type": "markdown",
   "metadata": {},
   "source": [
    "## Manga PDF'leme"
   ]
  },
  {
   "cell_type": "code",
   "execution_count": 1,
   "metadata": {},
   "outputs": [],
   "source": [
    "import os\n",
    "import requests\n",
    "from reportlab.lib.pagesizes import letter\n",
    "from reportlab.pdfgen import canvas"
   ]
  },
  {
   "cell_type": "code",
   "execution_count": null,
   "metadata": {},
   "outputs": [],
   "source": [
    "def get_image_urls(manga_chapter_link):\n",
    "    data = requests.get(manga_chapter_link)\n",
    "    long_string = data.text\n",
    "    start_marker = \"<p id=arraydata style=display:none>\"\n",
    "    end_marker = \"</p>\\r\"\n",
    "\n",
    "    # Find the position of the first occurrence of start_marker\n",
    "    start_index = long_string.find(start_marker)\n",
    "\n",
    "    # Check if start_marker is found\n",
    "    if start_index != -1:\n",
    "        # Find the position of the first occurrence of end_marker after start_index\n",
    "        end_index = long_string.find(end_marker, start_index + len(start_marker))\n",
    "        \n",
    "        # Check if end_marker is found after start_marker\n",
    "        if end_index != -1:\n",
    "            # Extract the substring between start_index and end_index\n",
    "            result = long_string[start_index + len(start_marker):end_index]\n",
    "            result = result.split(\",\")\n",
    "            print(\"found \" + str(len(result)) + \" png files\")\n",
    "        else:\n",
    "            print(\"end_marker not found after \" + start_marker)\n",
    "    else:\n",
    "        print(start_marker + \" not found\")\n",
    "\n",
    "    return result"
   ]
  },
  {
   "cell_type": "code",
   "execution_count": null,
   "metadata": {},
   "outputs": [],
   "source": [
    "def download_images(image_urls, manga_name, chapter):\n",
    "    # Create a directory to save the downloaded images\n",
    "    if not os.path.exists('downloaded_images'):\n",
    "        os.makedirs('downloaded_images')\n",
    "    if not os.path.exists('downloaded_images/'+manga_name):\n",
    "        os.makedirs('downloaded_images/'+manga_name)\n",
    "    if not os.path.exists('downloaded_images/'+manga_name+\"/\"+chapter):\n",
    "        os.makedirs('downloaded_images/'+manga_name+\"/\"+chapter)\n",
    "\n",
    "    # Download and save each image locally\n",
    "    for i, image_url in enumerate(image_urls):\n",
    "        response = requests.get(image_url)\n",
    "        if response.status_code == 200:\n",
    "            with open('downloaded_images/'+manga_name+\"/\"+chapter+'/image_'+str(i+ 1)+'.png', 'wb') as image_file:\n",
    "                image_file.write(response.content)\n",
    "        else:\n",
    "            print(\"failed to download page\", i + 1)"
   ]
  },
  {
   "cell_type": "code",
   "execution_count": null,
   "metadata": {},
   "outputs": [],
   "source": [
    "def create_PDF_from_images(image_urls, manga_name, chapter):\n",
    "    if not os.path.exists('Manga_PDFs'):\n",
    "        os.makedirs('Manga_PDFs')\n",
    "    if not os.path.exists('Manga_PDFs/'+manga_name):\n",
    "        os.makedirs('Manga_PDFs/'+manga_name)\n",
    "    \n",
    "    # Output PDF file path\n",
    "    output_pdf_path = 'Manga_PDFs/'+manga_name+\"/\"+chapter + '.pdf'\n",
    "\n",
    "    # Create a PDF document\n",
    "    c = canvas.Canvas(output_pdf_path, pagesize=letter)\n",
    "\n",
    "    # Loop through the local image files and add each image as a page\n",
    "    for i in range(len(image_urls)):\n",
    "        image_path = 'downloaded_images/'+manga_name+\"/\"+chapter+'/image_'+str(i+ 1)+'.png'\n",
    "        if os.path.exists(image_path):\n",
    "            # Define the width and height of the page (adjust as needed)\n",
    "            width, height = letter\n",
    "            # Add the image to the PDF page, maintaining the aspect ratio\n",
    "            c.drawImage(image_path, 0, 0, width, height, preserveAspectRatio=True)\n",
    "            c.showPage()\n",
    "\n",
    "    # Add a white blank page at the end\n",
    "    c.showPage()\n",
    "\n",
    "    # Save the PDF document\n",
    "    c.save()\n",
    "\n",
    "    print(f'PDF saved as \"{output_pdf_path}\"')"
   ]
  },
  {
   "cell_type": "markdown",
   "metadata": {},
   "source": [
    "## 1"
   ]
  },
  {
   "cell_type": "code",
   "execution_count": null,
   "metadata": {},
   "outputs": [],
   "source": [
    "def download_manga(manga_link, manga_name, chapter, end_chapter):\n",
    "    while True:\n",
    "        manga_chapter_link = manga_link + chapter\n",
    "\n",
    "        print(\"processing chapter:\", chapter)\n",
    "\n",
    "        try:\n",
    "            image_urls = get_image_urls(manga_chapter_link)\n",
    "        except:\n",
    "            print(\"error during geting image urls\")\n",
    "            break\n",
    "\n",
    "        try:\n",
    "            download_images(image_urls, manga_name, chapter)\n",
    "        except:\n",
    "            print(\"error during dowloading images\")\n",
    "            break\n",
    "\n",
    "        try:\n",
    "            create_PDF_from_images(image_urls, manga_name, chapter)\n",
    "        except:\n",
    "            print(\"error during creating pdf\")\n",
    "            break\n",
    "\n",
    "        chapter = str(int(chapter) + 1)\n",
    "\n",
    "        if chapter == end_chapter:\n",
    "            break"
   ]
  },
  {
   "cell_type": "code",
   "execution_count": null,
   "metadata": {},
   "outputs": [],
   "source": [
    "manga_link = \"https://mangapanda.in/how-to-live-as-an-unlicensed-healer-chapter-\"\n",
    "manga_name = \"deneme\"\n",
    "chapter = \"1\"\n",
    "end_chapter = \"2\"\n",
    "\n",
    "download_manga(manga_link, manga_name, chapter, end_chapter)"
   ]
  },
  {
   "cell_type": "markdown",
   "metadata": {},
   "source": [
    "## 2"
   ]
  },
  {
   "cell_type": "code",
   "execution_count": null,
   "metadata": {},
   "outputs": [],
   "source": [
    "def download_manga_with_list(manga_link, manga_name, chapter_list):\n",
    "    for chapter in chapter_list:\n",
    "        manga_chapter_link = manga_link + chapter\n",
    "\n",
    "        print(\"processing chapter:\", chapter)\n",
    "\n",
    "        try:\n",
    "            image_urls = get_image_urls(manga_chapter_link)\n",
    "        except:\n",
    "            print(\"error during geting image urls\")\n",
    "            break\n",
    "\n",
    "        try:\n",
    "            download_images(image_urls, manga_name, chapter)\n",
    "        except:\n",
    "            print(\"error during dowloading images\")\n",
    "            break\n",
    "\n",
    "        try:\n",
    "            create_PDF_from_images(image_urls, manga_name, chapter)\n",
    "        except:\n",
    "            print(\"error during creating pdf\")\n",
    "            break"
   ]
  },
  {
   "cell_type": "code",
   "execution_count": null,
   "metadata": {},
   "outputs": [],
   "source": [
    "manga_link = \"https://mangapanda.in/the-reincarnated-sage-who-possesses-the-mark-of-the-emperor-that-commands-obedience-from-monsters-quietly-becoming-the-strongest-adventurer-with-the-magic-from-his-previous-life-alongside-his-monster-chapter-\"\n",
    "manga_name = \"deneme2\"\n",
    "chapter_list = [\"1.1\", \"1.2\", \"2.1\", \"2.2\", \"3.1\", \"3.2\", \"3.3\", \"4.1\", \"4.2\", \"5\", \"6\", \"6.1\", \"7\", \"8\", \"9\", \"10\", \"11\", \"12\", \"13\", \"14\", \"15\"]\n",
    "\n",
    "download_manga_with_list(manga_link, manga_name, chapter_list)"
   ]
  }
 ],
 "metadata": {
  "kernelspec": {
   "display_name": "Python 3.10.6 64-bit",
   "language": "python",
   "name": "python3"
  },
  "language_info": {
   "codemirror_mode": {
    "name": "ipython",
    "version": 3
   },
   "file_extension": ".py",
   "mimetype": "text/x-python",
   "name": "python",
   "nbconvert_exporter": "python",
   "pygments_lexer": "ipython3",
   "version": "3.9.13"
  },
  "orig_nbformat": 4,
  "vscode": {
   "interpreter": {
    "hash": "916dbcbb3f70747c44a77c7bcd40155683ae19c65e1c03b4aa3499c5328201f1"
   }
  }
 },
 "nbformat": 4,
 "nbformat_minor": 2
}
